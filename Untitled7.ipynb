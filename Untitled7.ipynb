{
 "cells": [
  {
   "cell_type": "code",
   "execution_count": 1,
   "id": "8dda5b40-1f28-4554-9c75-e8cb750d5ed3",
   "metadata": {},
   "outputs": [],
   "source": [
    "import numpy as np"
   ]
  },
  {
   "cell_type": "code",
   "execution_count": 14,
   "id": "e4f002ca-d9a6-4df7-a4c2-b985a9d5fb3a",
   "metadata": {},
   "outputs": [],
   "source": [
    "arr = np.array([1,2,'3'])\n",
    "lis = [1,2,'3']"
   ]
  },
  {
   "cell_type": "code",
   "execution_count": 16,
   "id": "5852dee0-a49a-49a8-8f30-402202b4c90f",
   "metadata": {},
   "outputs": [
    {
     "data": {
      "text/plain": [
       "1"
      ]
     },
     "execution_count": 16,
     "metadata": {},
     "output_type": "execute_result"
    }
   ],
   "source": [
    "lis[0]"
   ]
  },
  {
   "cell_type": "code",
   "execution_count": 18,
   "id": "ad92ce76-51b8-40d3-9ee8-f489cf6004d1",
   "metadata": {},
   "outputs": [
    {
     "data": {
      "text/plain": [
       "'1'"
      ]
     },
     "execution_count": 18,
     "metadata": {},
     "output_type": "execute_result"
    }
   ],
   "source": [
    "arr[0]"
   ]
  },
  {
   "cell_type": "code",
   "execution_count": 24,
   "id": "77cda48b-096b-4266-bdc2-c72e6d16db74",
   "metadata": {},
   "outputs": [],
   "source": [
    "a = np.array([100,200])\n",
    "b = np.array([200.])"
   ]
  },
  {
   "cell_type": "code",
   "execution_count": 26,
   "id": "1c07d52d-97d5-40c0-8ab2-27a46073f8cf",
   "metadata": {},
   "outputs": [
    {
     "data": {
      "text/plain": [
       "array([300., 400.])"
      ]
     },
     "execution_count": 26,
     "metadata": {},
     "output_type": "execute_result"
    }
   ],
   "source": [
    "a + b"
   ]
  },
  {
   "cell_type": "code",
   "execution_count": null,
   "id": "513a109c-d59a-4b21-b63f-7d9214d1f22d",
   "metadata": {},
   "outputs": [],
   "source": [
    "a1 = [100"
   ]
  },
  {
   "cell_type": "code",
   "execution_count": 30,
   "id": "1e7a90a0-169b-4759-b3a7-5954f9263e77",
   "metadata": {},
   "outputs": [],
   "source": [
    "a = np.array([100],dtype = np.uint8)\n",
    "b = np.array([200],dtype = np.uint8)"
   ]
  },
  {
   "cell_type": "code",
   "execution_count": 32,
   "id": "12a848cd-02b8-4c66-be1c-6eee64a7a071",
   "metadata": {},
   "outputs": [
    {
     "data": {
      "text/plain": [
       "array([44], dtype=uint8)"
      ]
     },
     "execution_count": 32,
     "metadata": {},
     "output_type": "execute_result"
    }
   ],
   "source": [
    "a+b"
   ]
  },
  {
   "cell_type": "code",
   "execution_count": 34,
   "id": "62eed866-332a-4c06-a295-aaf02cac9852",
   "metadata": {},
   "outputs": [],
   "source": [
    "import random"
   ]
  },
  {
   "cell_type": "code",
   "execution_count": 38,
   "id": "4b31a3f7-1e9b-481c-80f0-a4ace1510cf5",
   "metadata": {
    "collapsed": true,
    "jupyter": {
     "outputs_hidden": true
    },
    "scrolled": true
   },
   "outputs": [
    {
     "data": {
      "text/plain": [
       "[75,\n",
       " 41,\n",
       " 5,\n",
       " 81,\n",
       " 20,\n",
       " 20,\n",
       " 59,\n",
       " 88,\n",
       " 66,\n",
       " 76,\n",
       " 28,\n",
       " 25,\n",
       " 53,\n",
       " 19,\n",
       " 52,\n",
       " 28,\n",
       " 92,\n",
       " 15,\n",
       " 26,\n",
       " 21,\n",
       " 15,\n",
       " 35,\n",
       " 68,\n",
       " 25,\n",
       " 92,\n",
       " 80,\n",
       " 9,\n",
       " 85,\n",
       " 79,\n",
       " 85,\n",
       " 37,\n",
       " 38,\n",
       " 21,\n",
       " 78,\n",
       " 22,\n",
       " 5,\n",
       " 91,\n",
       " 49,\n",
       " 35,\n",
       " 3,\n",
       " 20,\n",
       " 15,\n",
       " 81,\n",
       " 53,\n",
       " 95,\n",
       " 93,\n",
       " 87,\n",
       " 36,\n",
       " 54,\n",
       " 19,\n",
       " 30,\n",
       " 49,\n",
       " 38,\n",
       " 76,\n",
       " 46,\n",
       " 83,\n",
       " 33,\n",
       " 19,\n",
       " 56,\n",
       " 2,\n",
       " 12,\n",
       " 66,\n",
       " 10,\n",
       " 5,\n",
       " 12,\n",
       " 90,\n",
       " 29,\n",
       " 37,\n",
       " 18,\n",
       " 30,\n",
       " 26,\n",
       " 19,\n",
       " 25,\n",
       " 98,\n",
       " 80,\n",
       " 30,\n",
       " 31,\n",
       " 77,\n",
       " 31,\n",
       " 82,\n",
       " 84,\n",
       " 96,\n",
       " 7,\n",
       " 43,\n",
       " 96,\n",
       " 85,\n",
       " 60,\n",
       " 2,\n",
       " 87,\n",
       " 74,\n",
       " 76,\n",
       " 99,\n",
       " 30,\n",
       " 55,\n",
       " 27,\n",
       " 29,\n",
       " 58,\n",
       " 22,\n",
       " 6,\n",
       " 35]"
      ]
     },
     "execution_count": 38,
     "metadata": {},
     "output_type": "execute_result"
    }
   ],
   "source": [
    "[ random.randint(1,100) for _ in range(100)]"
   ]
  },
  {
   "cell_type": "code",
   "execution_count": 44,
   "id": "c60b4c1c-a193-4e1c-8e2b-2c49c0dde2cd",
   "metadata": {},
   "outputs": [],
   "source": [
    "height = np.random.randint(1,100,100)\n",
    "weight = np.random.randint(70,80,4)"
   ]
  },
  {
   "cell_type": "code",
   "execution_count": 46,
   "id": "6a851726-b061-43a2-87e9-bbd65301360c",
   "metadata": {},
   "outputs": [
    {
     "data": {
      "text/plain": [
       "array([77, 76, 70, 76])"
      ]
     },
     "execution_count": 46,
     "metadata": {},
     "output_type": "execute_result"
    }
   ],
   "source": [
    "weight"
   ]
  },
  {
   "cell_type": "code",
   "execution_count": 66,
   "id": "5644d078-63bf-4e72-8134-4c6d36335019",
   "metadata": {},
   "outputs": [],
   "source": [
    "bmi = []\n",
    "for i in range(4):\n",
    "    bmi.append ( weight[i] / (height[i] * height[i]) )"
   ]
  },
  {
   "cell_type": "code",
   "execution_count": 70,
   "id": "b85c8006-c4cf-4ec7-bdd0-453a1b13c49f",
   "metadata": {},
   "outputs": [
    {
     "data": {
      "text/plain": [
       "[0.010173074382349056,\n",
       " 0.02423469387755102,\n",
       " 0.05714285714285714,\n",
       " 0.010275824770146024]"
      ]
     },
     "execution_count": 70,
     "metadata": {},
     "output_type": "execute_result"
    }
   ],
   "source": [
    "bmi"
   ]
  },
  {
   "cell_type": "code",
   "execution_count": 100,
   "id": "9b0da54b-dcf7-46dc-8c3e-d704adcb4547",
   "metadata": {},
   "outputs": [
    {
     "ename": "ValueError",
     "evalue": "operands could not be broadcast together with shapes (4,) (100,) ",
     "output_type": "error",
     "traceback": [
      "\u001b[1;31m---------------------------------------------------------------------------\u001b[0m",
      "\u001b[1;31mValueError\u001b[0m                                Traceback (most recent call last)",
      "Cell \u001b[1;32mIn[100], line 1\u001b[0m\n\u001b[1;32m----> 1\u001b[0m bmi \u001b[38;5;241m=\u001b[39m weight \u001b[38;5;241m/\u001b[39m ( height \u001b[38;5;241m*\u001b[39m height)\n\u001b[0;32m      2\u001b[0m bmi\n",
      "\u001b[1;31mValueError\u001b[0m: operands could not be broadcast together with shapes (4,) (100,) "
     ]
    }
   ],
   "source": [
    "bmi = weight / ( height * height)\n",
    "bmi"
   ]
  },
  {
   "cell_type": "code",
   "execution_count": 80,
   "id": "408e2b19-08c3-4ace-9d0b-cc823e0ef4fd",
   "metadata": {},
   "outputs": [],
   "source": [
    "a = np.random.randint(60,100,10)"
   ]
  },
  {
   "cell_type": "code",
   "execution_count": 102,
   "id": "865b5e2a-6b9a-4324-9a9a-0e2b7a17879f",
   "metadata": {},
   "outputs": [
    {
     "data": {
      "text/plain": [
       "76.5"
      ]
     },
     "execution_count": 102,
     "metadata": {},
     "output_type": "execute_result"
    }
   ],
   "source": [
    "np.mean(a)"
   ]
  },
  {
   "cell_type": "code",
   "execution_count": 104,
   "id": "cde9783d-0efb-4cc7-99a8-49aa5d55279d",
   "metadata": {},
   "outputs": [
    {
     "data": {
      "text/plain": [
       "76.5"
      ]
     },
     "execution_count": 104,
     "metadata": {},
     "output_type": "execute_result"
    }
   ],
   "source": [
    "s = 0\n",
    "for i in a:\n",
    "    s+= i\n",
    "s/len(a)"
   ]
  },
  {
   "cell_type": "code",
   "execution_count": 108,
   "id": "b3b4b820-9b11-4b75-8aa8-d0c0cb66dc3c",
   "metadata": {},
   "outputs": [
    {
     "data": {
      "text/plain": [
       "76.5"
      ]
     },
     "execution_count": 108,
     "metadata": {},
     "output_type": "execute_result"
    }
   ],
   "source": [
    "np.sum(a*(1/a.size))"
   ]
  },
  {
   "cell_type": "code",
   "execution_count": 126,
   "id": "2330ca74-f64b-48df-b69e-2752104fb37a",
   "metadata": {},
   "outputs": [],
   "source": [
    "class Array:\n",
    "    def __init__(self,x,y):\n",
    "        self.x = x\n",
    "        self.y = np.array(y)\n",
    "        if not (self.y.shape):\n",
    "            self.scalar()\n",
    "        elif self.x.shape == self.y.shape:\n",
    "            print(\"구현중\")\n",
    "    def scalar(self):\n",
    "        ret = []\n",
    "        for i in self.x:\n",
    "            ret.append(self.x+self.y)\n",
    "        return np.array(ret)\n",
    "    def element_wise(self):\n",
    "        ret = np.zeros((self.x))\n",
    "        for i in range\n",
    "        print(ret)"
   ]
  },
  {
   "cell_type": "code",
   "execution_count": 118,
   "id": "03b1235c-3080-4746-aaee-05fcdeb99861",
   "metadata": {},
   "outputs": [],
   "source": [
    "x = np.array([1,2,3,4])\n",
    "y = 10\n",
    "arr = Array(x,y)"
   ]
  },
  {
   "cell_type": "code",
   "execution_count": 120,
   "id": "4d979324-f9bb-4ae6-aef6-2fd0111325dc",
   "metadata": {},
   "outputs": [
    {
     "data": {
      "text/plain": [
       "array([[11, 12, 13, 14],\n",
       "       [11, 12, 13, 14],\n",
       "       [11, 12, 13, 14],\n",
       "       [11, 12, 13, 14]])"
      ]
     },
     "execution_count": 120,
     "metadata": {},
     "output_type": "execute_result"
    }
   ],
   "source": [
    "arr.scalar()"
   ]
  },
  {
   "cell_type": "code",
   "execution_count": 122,
   "id": "ec46858e-00df-401b-9f8e-329f5372906b",
   "metadata": {},
   "outputs": [],
   "source": [
    "x = np.array([1,2,3,4])\n",
    "y = np.array([5,6,7,8])\n",
    "arr = "
   ]
  }
 ],
 "metadata": {
  "kernelspec": {
   "display_name": "Python 3 (ipykernel)",
   "language": "python",
   "name": "python3"
  },
  "language_info": {
   "codemirror_mode": {
    "name": "ipython",
    "version": 3
   },
   "file_extension": ".py",
   "mimetype": "text/x-python",
   "name": "python",
   "nbconvert_exporter": "python",
   "pygments_lexer": "ipython3",
   "version": "3.12.4"
  }
 },
 "nbformat": 4,
 "nbformat_minor": 5
}
